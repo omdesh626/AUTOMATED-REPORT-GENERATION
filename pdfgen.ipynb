{
 "cells": [
  {
   "cell_type": "code",
   "execution_count": 7,
   "id": "524f1437-0fa9-4346-a7d6-16acf55d23da",
   "metadata": {},
   "outputs": [
    {
     "name": "stdout",
     "output_type": "stream",
     "text": [
      "Analyzing data...\n",
      "Generating PDF report...\n",
      "Report generated: report.pdf\n"
     ]
    }
   ],
   "source": [
    "from fpdf import FPDF\n",
    "import csv\n",
    "\n",
    "# Define a class for the PDF report\n",
    "class PDFReport(FPDF):\n",
    "    def header(self):\n",
    "        self.set_font('Arial', 'B', 12)\n",
    "        self.cell(0, 10, 'Data Analysis Report', 0, 1, 'C')\n",
    "        self.ln(10)\n",
    "\n",
    "    def footer(self):\n",
    "        self.set_y(-15)\n",
    "        self.set_font('Arial', 'I', 8)\n",
    "        self.cell(0, 10, f'Page {self.page_no()}', 0, 0, 'C')\n",
    "\n",
    "    def add_section(self, title, content):\n",
    "        self.set_font('Arial', 'B', 12)\n",
    "        self.cell(0, 10, title, 0, 1, 'L')\n",
    "        self.set_font('Arial', '', 10)\n",
    "        self.multi_cell(0, 10, content)\n",
    "        self.ln(5)\n",
    "\n",
    "def analyze_data(file_path):\n",
    "    with open(file_path, 'r') as file:\n",
    "        reader = csv.DictReader(file)\n",
    "        rows = list(reader)\n",
    "        num_records = len(rows)\n",
    "        column_summary = {column: set() for column in reader.fieldnames}\n",
    "        for row in rows:\n",
    "            for column, value in row.items():\n",
    "                column_summary[column].add(value)\n",
    "        \n",
    "    return num_records, column_summary\n",
    "\n",
    "def generate_pdf_report(output_path, num_records, column_summary):\n",
    "    pdf = PDFReport()\n",
    "    pdf.add_page()\n",
    "\n",
    "    pdf.add_section('Summary', f'Total Records: {num_records}')\n",
    "\n",
    "    for column, unique_values in column_summary.items():\n",
    "        content =\", \".join(unique_values)\n",
    "        pdf.add_section(column, content)\n",
    "\n",
    "    pdf.output(output_path)\n",
    "\n",
    "\n",
    "def main():\n",
    "    input_file = 'data.csv'  \n",
    "    output_file = 'report.pdf'\n",
    "\n",
    "    print(\"Analyzing data...\")\n",
    "    num_records, column_summary = analyze_data(input_file)\n",
    "\n",
    "    print(\"Generating PDF report...\")\n",
    "    generate_pdf_report(output_file, num_records, column_summary)\n",
    "\n",
    "    print(f\"Report generated: {output_file}\")\n",
    "\n",
    "if __name__ == '__main__':\n",
    "    main()\n"
   ]
  },
  {
   "cell_type": "code",
   "execution_count": 6,
   "id": "d716de30-bd87-4416-8eed-4729f4314127",
   "metadata": {},
   "outputs": [],
   "source": []
  },
  {
   "cell_type": "code",
   "execution_count": 9,
   "id": "57d426da-6396-4499-b31d-eb26f2adfa51",
   "metadata": {},
   "outputs": [
    {
     "name": "stdout",
     "output_type": "stream",
     "text": [
      "Report generated: report.pdf\n"
     ]
    }
   ],
   "source": [
    "from fpdf import FPDF\n",
    "import csv\n",
    "\n",
    "# Initialize PDF object\n",
    "pdf = FPDF()\n",
    "pdf.add_page()\n",
    "pdf.set_font('Arial', '', 12)\n",
    "\n",
    "# Read CSV file and generate content for the report\n",
    "with open('data.csv', 'r') as file:\n",
    "    reader = csv.DictReader(file)\n",
    "    rows = list(reader)\n",
    "    num_records = len(rows)\n",
    "    pdf.cell(0, 10, f'Total Records: {num_records}', ln=True)\n",
    "\n",
    "    for column in reader.fieldnames:\n",
    "        unique_values = {row[column] for row in rows}\n",
    "        pdf.cell(0, 10, f'{column}: {\", \".join(unique_values)}', ln=True)\n",
    "\n",
    "# Output the PDF report\n",
    "pdf.output('report.pdf')\n",
    "\n",
    "print(\"Report generated: report.pdf\")\n"
   ]
  },
  {
   "cell_type": "code",
   "execution_count": 13,
   "id": "91267c40-8915-457c-b78a-6ce88cf622e4",
   "metadata": {},
   "outputs": [
    {
     "name": "stdout",
     "output_type": "stream",
     "text": [
      "Report generated: report.pdf\n"
     ]
    }
   ],
   "source": [
    "from fpdf import FPDF\n",
    "import csv\n",
    "\n",
    "pdf = FPDF()\n",
    "\n",
    "pdf.add_page()\n",
    "\n",
    "pdf.set_font('Arial', 'B', 12)\n",
    "pdf.cell(0, 10, 'Data Analysis Report', 0, 1, 'C')\n",
    "pdf.ln(10)\n",
    "\n",
    "with open('data.csv', 'r') as file:\n",
    "    reader = csv.DictReader(file)\n",
    "    rows = list(reader)\n",
    "    num_records = len(rows)\n",
    "    pdf.set_font('Arial', '', 12)\n",
    "    pdf.cell(0, 10, f'Total Records: {num_records}', ln=True)\n",
    "\n",
    "    for column in reader.fieldnames:\n",
    "        unique_values = {row[column] for row in rows}\n",
    "        pdf.cell(0, 10, f'{column}: {\", \".join(unique_values)}', ln=True)\n",
    "\n",
    "\n",
    "pdf.ln(5)  \n",
    "pdf.set_y(-15)\n",
    "pdf.set_font('Arial', 'I', 8)\n",
    "pdf.cell(0, 10, f'Page {pdf.page_no()}', 0, 0, 'C')\n",
    "\n",
    "\n",
    "pdf.output('report.pdf')\n",
    "\n",
    "print(\"Report generated: report.pdf\")\n"
   ]
  },
  {
   "cell_type": "code",
   "execution_count": null,
   "id": "b11f8c50-852a-426e-82ab-3c5c8f3c34a6",
   "metadata": {},
   "outputs": [],
   "source": []
  }
 ],
 "metadata": {
  "kernelspec": {
   "display_name": "Python 3 (ipykernel)",
   "language": "python",
   "name": "python3"
  },
  "language_info": {
   "codemirror_mode": {
    "name": "ipython",
    "version": 3
   },
   "file_extension": ".py",
   "mimetype": "text/x-python",
   "name": "python",
   "nbconvert_exporter": "python",
   "pygments_lexer": "ipython3",
   "version": "3.11.7"
  }
 },
 "nbformat": 4,
 "nbformat_minor": 5
}
