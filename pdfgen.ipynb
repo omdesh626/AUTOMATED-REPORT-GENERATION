{
 "cells": [
  {
   "cell_type": "code",
   "execution_count": 13,
   "id": "91267c40-8915-457c-b78a-6ce88cf622e4",
   "metadata": {},
   "outputs": [
    {
     "name": "stdout",
     "output_type": "stream",
     "text": [
      "Report generated: report.pdf\n"
     ]
    }
   ],
   "source": [
    "from fpdf import FPDF\n",
    "import csv\n",
    "\n",
    "pdf = FPDF()\n",
    "\n",
    "pdf.add_page()\n",
    "\n",
    "pdf.set_font('Arial', 'B', 12)\n",
    "pdf.cell(0, 10, 'Data Analysis Report', 0, 1, 'C')\n",
    "pdf.ln(10)\n",
    "\n",
    "with open('data.csv', 'r') as file:\n",
    "    reader = csv.DictReader(file)\n",
    "    rows = list(reader)\n",
    "    num_records = len(rows)\n",
    "    pdf.set_font('Arial', '', 12)\n",
    "    pdf.cell(0, 10, f'Total Records: {num_records}', ln=True)\n",
    "\n",
    "    for column in reader.fieldnames:\n",
    "        unique_values = {row[column] for row in rows}\n",
    "        pdf.cell(0, 10, f'{column}: {\", \".join(unique_values)}', ln=True)\n",
    "\n",
    "\n",
    "pdf.ln(5)  \n",
    "pdf.set_y(-15)\n",
    "pdf.set_font('Arial', 'I', 8)\n",
    "pdf.cell(0, 10, f'Page {pdf.page_no()}', 0, 0, 'C')\n",
    "\n",
    "\n",
    "pdf.output('report.pdf')\n",
    "\n",
    "print(\"Report generated: report.pdf\")\n"
   ]
  },
  {
   "cell_type": "code",
   "execution_count": null,
   "id": "b11f8c50-852a-426e-82ab-3c5c8f3c34a6",
   "metadata": {},
   "outputs": [],
   "source": []
  }
 ],
 "metadata": {
  "kernelspec": {
   "display_name": "Python 3 (ipykernel)",
   "language": "python",
   "name": "python3"
  },
  "language_info": {
   "codemirror_mode": {
    "name": "ipython",
    "version": 3
   },
   "file_extension": ".py",
   "mimetype": "text/x-python",
   "name": "python",
   "nbconvert_exporter": "python",
   "pygments_lexer": "ipython3",
   "version": "3.11.7"
  }
 },
 "nbformat": 4,
 "nbformat_minor": 5
}
